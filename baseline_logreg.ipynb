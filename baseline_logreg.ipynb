{
  "cells": [
    {
      "cell_type": "code",
      "execution_count": 15,
      "metadata": {
        "id": "l3cK4u81VvYv"
      },
      "outputs": [],
      "source": [
        "import pandas as pd\n",
        "from sklearn.feature_extraction.text import CountVectorizer\n",
        "from sklearn.preprocessing import OneHotEncoder, OrdinalEncoder\n",
        "from sklearn.pipeline import Pipeline\n",
        "from sklearn.compose import ColumnTransformer\n",
        "from sklearn.model_selection import train_test_split\n",
        "from sklearn.metrics import classification_report\n",
        "from sklearn.linear_model import LogisticRegression"
      ]
    },
    {
      "cell_type": "code",
      "execution_count": 16,
      "metadata": {},
      "outputs": [],
      "source": [
        "df = pd.read_csv('/Users/alina/Documents/dissertation/eclipse_all_bugs.csv')"
      ]
    },
    {
      "cell_type": "code",
      "execution_count": 26,
      "metadata": {
        "id": "P6H_Rf-Lhl3J"
      },
      "outputs": [],
      "source": [
        "# making a copy of df to make changes and preprocess\n",
        "dff = df.copy()"
      ]
    },
    {
      "cell_type": "code",
      "execution_count": 27,
      "metadata": {
        "id": "5rvUre9vhsHn"
      },
      "outputs": [],
      "source": [
        "# flattening of target categories\n",
        "dff['Product_component'] = dff['Product'] + ' ' + dff['Component']\n",
        "dff = dff.drop(columns=['Product', 'Component'])"
      ]
    },
    {
      "cell_type": "code",
      "execution_count": 28,
      "metadata": {
        "colab": {
          "base_uri": "https://localhost:8080/"
        },
        "id": "LUjVWlL1hzuG",
        "outputId": "6f4b0526-618e-42e2-f190-dcf5744044a8"
      },
      "outputs": [],
      "source": [
        "# drop rows where data in target and important columns is missing\n",
        "dff = dff.dropna(subset=['Product_component', 'Description'])\n",
        "\n",
        "# replace NaN values based on the mode (most frequent category of the column)\n",
        "mode_value = dff['Importance'].mode()[0]\n",
        "dff['Importance'].fillna(mode_value, inplace=True)\n",
        "\n",
        "# replace NaN values with a specific text\n",
        "dff['Title'].fillna('Unknown', inplace=True)"
      ]
    },
    {
      "cell_type": "code",
      "execution_count": 29,
      "metadata": {
        "id": "gbuREaVx-TKp"
      },
      "outputs": [],
      "source": [
        "# split the dataset into training and testing sets\n",
        "X = dff[['Title', 'Description', 'Importance']]\n",
        "y = dff['Product_component']\n",
        "\n",
        "X_train, X_test, y_train, y_test = train_test_split(X, y, test_size=0.2, random_state=42)"
      ]
    },
    {
      "cell_type": "code",
      "execution_count": 30,
      "metadata": {
        "id": "A94XTscZvkkZ"
      },
      "outputs": [],
      "source": [
        "# define preprocessing steps\n",
        "preprocessor = ColumnTransformer(\n",
        "    transformers=[\n",
        "        ('text_title', CountVectorizer(), 'Title'),\n",
        "        ('text_desc', CountVectorizer(), 'Description'),\n",
        "        ('cat_importance', OneHotEncoder(handle_unknown='ignore'), ['Importance'])\n",
        "    ],\n",
        "    remainder='passthrough'\n",
        ")"
      ]
    },
    {
      "cell_type": "code",
      "execution_count": 31,
      "metadata": {
        "id": "SkzLaAyRvwA7"
      },
      "outputs": [],
      "source": [
        "# fit and transform the training set\n",
        "X_train_processed = preprocessor.fit_transform(X_train)\n",
        "\n",
        "# transform the test set\n",
        "X_test_processed = preprocessor.transform(X_test)\n",
        "\n",
        "# encode the target feature\n",
        "encoder = OrdinalEncoder(handle_unknown='use_encoded_value', unknown_value=-1)\n",
        "y_train_encoded = encoder.fit_transform(y_train.values.reshape(-1, 1))\n",
        "y_test_encoded = encoder.transform(y_test.values.reshape(-1, 1))"
      ]
    },
    {
      "cell_type": "code",
      "execution_count": null,
      "metadata": {},
      "outputs": [],
      "source": [
        "# fit the training data into classifier\n",
        "logreg = LogisticRegression(n_jobs=2)\n",
        "logreg.fit(X_train_processed, y_train_encoded)"
      ]
    },
    {
      "cell_type": "code",
      "execution_count": 34,
      "metadata": {
        "colab": {
          "base_uri": "https://localhost:8080/"
        },
        "id": "D2nQD9aavNC-",
        "outputId": "be1dc7e3-c368-4e04-cd6f-70ac0b6776b6"
      },
      "outputs": [
        {
          "name": "stdout",
          "output_type": "stream",
          "text": [
            "Classification Report:\n",
            "                     precision    recall  f1-score   support\n",
            "\n",
            "      CDT cdt-core       0.43      0.14      0.21        22\n",
            "     CDT cdt-debug       1.00      0.05      0.09        22\n",
            "       CDT cdt-doc       0.00      0.00      0.00         4\n",
            "     CDT cdt-other       0.43      0.21      0.29        14\n",
            " Equinox Incubator       0.00      0.00      0.00         3\n",
            "          JDT Core       0.70      0.63      0.67       226\n",
            "         JDT Debug       0.63      0.66      0.64       253\n",
            "           JDT Doc       0.00      0.00      0.00         2\n",
            "          JDT Text       0.17      0.06      0.08        18\n",
            "            JDT UI       0.66      0.76      0.71       629\n",
            "         PDE Build       0.50      0.25      0.33         4\n",
            "            PDE UI       0.63      0.58      0.60        89\n",
            "      Platform Ant       0.80      0.75      0.77        16\n",
            "      Platform CVS       0.00      0.00      0.00         1\n",
            "  Platform Compare       0.61      0.49      0.54        41\n",
            "    Platform Debug       0.34      0.32      0.33        74\n",
            "      Platform Doc       0.00      0.00      0.00         0\n",
            "   Platform Releng       0.00      0.00      0.00         5\n",
            "Platform Resources       0.42      0.43      0.43       102\n",
            "  Platform Runtime       0.00      0.00      0.00         1\n",
            "      Platform SWT       0.71      0.68      0.69       251\n",
            "Platform Scripting       0.00      0.00      0.00         7\n",
            "   Platform Search       0.00      0.00      0.00         4\n",
            "     Platform Team       0.79      0.82      0.81       294\n",
            "     Platform Text       0.00      0.00      0.00        13\n",
            "       Platform UI       0.67      0.70      0.68       539\n",
            "   Platform Update       0.75      0.69      0.72        65\n",
            "     Platform User       0.67      0.66      0.67        47\n",
            "   Platform WebDAV       0.00      0.00      0.00         4\n",
            "           Unknown       0.00      0.00      0.00         2\n",
            "\n",
            "          accuracy                           0.66      2752\n",
            "         macro avg       0.36      0.30      0.31      2752\n",
            "      weighted avg       0.65      0.66      0.65      2752\n",
            "\n"
          ]
        },
        {
          "name": "stderr",
          "output_type": "stream",
          "text": [
            "/Users/alina/Library/Python/3.9/lib/python/site-packages/sklearn/metrics/_classification.py:1344: UndefinedMetricWarning: Precision and F-score are ill-defined and being set to 0.0 in labels with no predicted samples. Use `zero_division` parameter to control this behavior.\n",
            "  _warn_prf(average, modifier, msg_start, len(result))\n",
            "/Users/alina/Library/Python/3.9/lib/python/site-packages/sklearn/metrics/_classification.py:1344: UndefinedMetricWarning: Recall and F-score are ill-defined and being set to 0.0 in labels with no true samples. Use `zero_division` parameter to control this behavior.\n",
            "  _warn_prf(average, modifier, msg_start, len(result))\n",
            "/Users/alina/Library/Python/3.9/lib/python/site-packages/sklearn/metrics/_classification.py:1344: UndefinedMetricWarning: Precision and F-score are ill-defined and being set to 0.0 in labels with no predicted samples. Use `zero_division` parameter to control this behavior.\n",
            "  _warn_prf(average, modifier, msg_start, len(result))\n",
            "/Users/alina/Library/Python/3.9/lib/python/site-packages/sklearn/metrics/_classification.py:1344: UndefinedMetricWarning: Recall and F-score are ill-defined and being set to 0.0 in labels with no true samples. Use `zero_division` parameter to control this behavior.\n",
            "  _warn_prf(average, modifier, msg_start, len(result))\n",
            "/Users/alina/Library/Python/3.9/lib/python/site-packages/sklearn/metrics/_classification.py:1344: UndefinedMetricWarning: Precision and F-score are ill-defined and being set to 0.0 in labels with no predicted samples. Use `zero_division` parameter to control this behavior.\n",
            "  _warn_prf(average, modifier, msg_start, len(result))\n",
            "/Users/alina/Library/Python/3.9/lib/python/site-packages/sklearn/metrics/_classification.py:1344: UndefinedMetricWarning: Recall and F-score are ill-defined and being set to 0.0 in labels with no true samples. Use `zero_division` parameter to control this behavior.\n",
            "  _warn_prf(average, modifier, msg_start, len(result))\n"
          ]
        }
      ],
      "source": [
        "# evaluate on test data\n",
        "y_pred = logreg.predict(X_test_processed)\n",
        "\n",
        "# decode the numerical labels back to their original form\n",
        "y_test_decoded = encoder.inverse_transform(y_test_encoded.reshape(-1, 1))\n",
        "y_pred_decoded = encoder.inverse_transform(y_pred.reshape(-1, 1))\n",
        "\n",
        "# convert the arrays to pandas DataFrames\n",
        "y_test_decoded = pd.DataFrame(y_test_decoded)\n",
        "y_pred_decoded = pd.DataFrame(y_pred_decoded)\n",
        "\n",
        "# replace NaN values with a default value\n",
        "default_value = 'Unknown'\n",
        "y_test_decoded = y_test_decoded.fillna(default_value)\n",
        "y_pred_decoded = y_pred_decoded.fillna(default_value)\n",
        "\n",
        "report = classification_report(y_test_decoded, y_pred_decoded)\n",
        "print('Classification Report:\\n', report)\n"
      ]
    }
  ],
  "metadata": {
    "accelerator": "GPU",
    "colab": {
      "collapsed_sections": [
        "rpj1HRQbKtnB"
      ],
      "gpuType": "T4",
      "provenance": []
    },
    "kernelspec": {
      "display_name": "Python 3",
      "name": "python3"
    },
    "language_info": {
      "codemirror_mode": {
        "name": "ipython",
        "version": 3
      },
      "file_extension": ".py",
      "mimetype": "text/x-python",
      "name": "python",
      "nbconvert_exporter": "python",
      "pygments_lexer": "ipython3",
      "version": "3.9.6"
    }
  },
  "nbformat": 4,
  "nbformat_minor": 0
}
